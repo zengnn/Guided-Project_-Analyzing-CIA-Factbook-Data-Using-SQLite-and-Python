{
 "cells": [
  {
   "cell_type": "code",
   "execution_count": 1,
   "metadata": {
    "collapsed": false,
    "scrolled": false
   },
   "outputs": [
    {
     "data": {
      "text/html": [
       "<div>\n",
       "<table border=\"1\" class=\"dataframe\">\n",
       "  <thead>\n",
       "    <tr style=\"text-align: right;\">\n",
       "      <th></th>\n",
       "      <th>type</th>\n",
       "      <th>name</th>\n",
       "      <th>tbl_name</th>\n",
       "      <th>rootpage</th>\n",
       "      <th>sql</th>\n",
       "    </tr>\n",
       "  </thead>\n",
       "  <tbody>\n",
       "    <tr>\n",
       "      <th>0</th>\n",
       "      <td>table</td>\n",
       "      <td>sqlite_sequence</td>\n",
       "      <td>sqlite_sequence</td>\n",
       "      <td>3</td>\n",
       "      <td>CREATE TABLE sqlite_sequence(name,seq)</td>\n",
       "    </tr>\n",
       "    <tr>\n",
       "      <th>1</th>\n",
       "      <td>table</td>\n",
       "      <td>facts</td>\n",
       "      <td>facts</td>\n",
       "      <td>47</td>\n",
       "      <td>CREATE TABLE \"facts\" (\"id\" INTEGER PRIMARY KEY...</td>\n",
       "    </tr>\n",
       "  </tbody>\n",
       "</table>\n",
       "</div>"
      ],
      "text/plain": [
       "    type             name         tbl_name  rootpage  \\\n",
       "0  table  sqlite_sequence  sqlite_sequence         3   \n",
       "1  table            facts            facts        47   \n",
       "\n",
       "                                                 sql  \n",
       "0             CREATE TABLE sqlite_sequence(name,seq)  \n",
       "1  CREATE TABLE \"facts\" (\"id\" INTEGER PRIMARY KEY...  "
      ]
     },
     "execution_count": 1,
     "metadata": {},
     "output_type": "execute_result"
    }
   ],
   "source": [
    "import sqlite3\n",
    "import pandas as pd\n",
    "\n",
    "conn = sqlite3.connect(\"factbook.db\")\n",
    "\n",
    "q = \"SELECT * FROM sqlite_master WHERE type='table';\"\n",
    "pd.read_sql_query(q, conn) "
   ]
  },
  {
   "cell_type": "code",
   "execution_count": 5,
   "metadata": {
    "collapsed": false,
    "scrolled": false
   },
   "outputs": [
    {
     "data": {
      "text/html": [
       "<div>\n",
       "<table border=\"1\" class=\"dataframe\">\n",
       "  <thead>\n",
       "    <tr style=\"text-align: right;\">\n",
       "      <th></th>\n",
       "      <th>id</th>\n",
       "      <th>code</th>\n",
       "      <th>name</th>\n",
       "      <th>area</th>\n",
       "      <th>area_land</th>\n",
       "      <th>area_water</th>\n",
       "      <th>population</th>\n",
       "      <th>population_growth</th>\n",
       "      <th>birth_rate</th>\n",
       "      <th>death_rate</th>\n",
       "      <th>migration_rate</th>\n",
       "    </tr>\n",
       "  </thead>\n",
       "  <tbody>\n",
       "    <tr>\n",
       "      <th>0</th>\n",
       "      <td>1</td>\n",
       "      <td>af</td>\n",
       "      <td>Afghanistan</td>\n",
       "      <td>652230</td>\n",
       "      <td>652230</td>\n",
       "      <td>0</td>\n",
       "      <td>32564342</td>\n",
       "      <td>2.32</td>\n",
       "      <td>38.57</td>\n",
       "      <td>13.89</td>\n",
       "      <td>1.51</td>\n",
       "    </tr>\n",
       "    <tr>\n",
       "      <th>1</th>\n",
       "      <td>2</td>\n",
       "      <td>al</td>\n",
       "      <td>Albania</td>\n",
       "      <td>28748</td>\n",
       "      <td>27398</td>\n",
       "      <td>1350</td>\n",
       "      <td>3029278</td>\n",
       "      <td>0.30</td>\n",
       "      <td>12.92</td>\n",
       "      <td>6.58</td>\n",
       "      <td>3.30</td>\n",
       "    </tr>\n",
       "    <tr>\n",
       "      <th>2</th>\n",
       "      <td>3</td>\n",
       "      <td>ag</td>\n",
       "      <td>Algeria</td>\n",
       "      <td>2381741</td>\n",
       "      <td>2381741</td>\n",
       "      <td>0</td>\n",
       "      <td>39542166</td>\n",
       "      <td>1.84</td>\n",
       "      <td>23.67</td>\n",
       "      <td>4.31</td>\n",
       "      <td>0.92</td>\n",
       "    </tr>\n",
       "    <tr>\n",
       "      <th>3</th>\n",
       "      <td>4</td>\n",
       "      <td>an</td>\n",
       "      <td>Andorra</td>\n",
       "      <td>468</td>\n",
       "      <td>468</td>\n",
       "      <td>0</td>\n",
       "      <td>85580</td>\n",
       "      <td>0.12</td>\n",
       "      <td>8.13</td>\n",
       "      <td>6.96</td>\n",
       "      <td>0.00</td>\n",
       "    </tr>\n",
       "    <tr>\n",
       "      <th>4</th>\n",
       "      <td>5</td>\n",
       "      <td>ao</td>\n",
       "      <td>Angola</td>\n",
       "      <td>1246700</td>\n",
       "      <td>1246700</td>\n",
       "      <td>0</td>\n",
       "      <td>19625353</td>\n",
       "      <td>2.78</td>\n",
       "      <td>38.78</td>\n",
       "      <td>11.49</td>\n",
       "      <td>0.46</td>\n",
       "    </tr>\n",
       "  </tbody>\n",
       "</table>\n",
       "</div>"
      ],
      "text/plain": [
       "   id code         name     area  area_land  area_water  population  \\\n",
       "0   1   af  Afghanistan   652230     652230           0    32564342   \n",
       "1   2   al      Albania    28748      27398        1350     3029278   \n",
       "2   3   ag      Algeria  2381741    2381741           0    39542166   \n",
       "3   4   an      Andorra      468        468           0       85580   \n",
       "4   5   ao       Angola  1246700    1246700           0    19625353   \n",
       "\n",
       "   population_growth  birth_rate  death_rate  migration_rate  \n",
       "0               2.32       38.57       13.89            1.51  \n",
       "1               0.30       12.92        6.58            3.30  \n",
       "2               1.84       23.67        4.31            0.92  \n",
       "3               0.12        8.13        6.96            0.00  \n",
       "4               2.78       38.78       11.49            0.46  "
      ]
     },
     "execution_count": 5,
     "metadata": {},
     "output_type": "execute_result"
    }
   ],
   "source": [
    "q1 = \"select * from facts limit 5\"\n",
    "pd.read_sql_query(q1, conn)"
   ]
  },
  {
   "cell_type": "code",
   "execution_count": 7,
   "metadata": {
    "collapsed": false
   },
   "outputs": [
    {
     "data": {
      "text/html": [
       "<div>\n",
       "<table border=\"1\" class=\"dataframe\">\n",
       "  <thead>\n",
       "    <tr style=\"text-align: right;\">\n",
       "      <th></th>\n",
       "      <th>min(population)</th>\n",
       "      <th>max(population)</th>\n",
       "      <th>min(population_growth)</th>\n",
       "      <th>max(population_growth)</th>\n",
       "    </tr>\n",
       "  </thead>\n",
       "  <tbody>\n",
       "    <tr>\n",
       "      <th>0</th>\n",
       "      <td>0</td>\n",
       "      <td>7256490011</td>\n",
       "      <td>0.0</td>\n",
       "      <td>4.02</td>\n",
       "    </tr>\n",
       "  </tbody>\n",
       "</table>\n",
       "</div>"
      ],
      "text/plain": [
       "   min(population)  max(population)  min(population_growth)  \\\n",
       "0                0       7256490011                     0.0   \n",
       "\n",
       "   max(population_growth)  \n",
       "0                    4.02  "
      ]
     },
     "execution_count": 7,
     "metadata": {},
     "output_type": "execute_result"
    }
   ],
   "source": [
    "q2 = \"select min(population), max(population), min(population_growth), max(population_growth) from facts\"\n",
    "pd.read_sql_query(q2, conn)"
   ]
  },
  {
   "cell_type": "code",
   "execution_count": 11,
   "metadata": {
    "collapsed": false
   },
   "outputs": [
    {
     "data": {
      "text/html": [
       "<div>\n",
       "<table border=\"1\" class=\"dataframe\">\n",
       "  <thead>\n",
       "    <tr style=\"text-align: right;\">\n",
       "      <th></th>\n",
       "      <th>id</th>\n",
       "      <th>code</th>\n",
       "      <th>name</th>\n",
       "      <th>area</th>\n",
       "      <th>area_land</th>\n",
       "      <th>area_water</th>\n",
       "      <th>population</th>\n",
       "      <th>population_growth</th>\n",
       "      <th>birth_rate</th>\n",
       "      <th>death_rate</th>\n",
       "      <th>migration_rate</th>\n",
       "    </tr>\n",
       "  </thead>\n",
       "  <tbody>\n",
       "    <tr>\n",
       "      <th>0</th>\n",
       "      <td>250</td>\n",
       "      <td>ay</td>\n",
       "      <td>Antarctica</td>\n",
       "      <td>None</td>\n",
       "      <td>280000</td>\n",
       "      <td>None</td>\n",
       "      <td>0</td>\n",
       "      <td>None</td>\n",
       "      <td>None</td>\n",
       "      <td>None</td>\n",
       "      <td>None</td>\n",
       "    </tr>\n",
       "  </tbody>\n",
       "</table>\n",
       "</div>"
      ],
      "text/plain": [
       "    id code        name  area  area_land area_water  population  \\\n",
       "0  250   ay  Antarctica  None     280000       None           0   \n",
       "\n",
       "  population_growth birth_rate death_rate migration_rate  \n",
       "0              None       None       None           None  "
      ]
     },
     "execution_count": 11,
     "metadata": {},
     "output_type": "execute_result"
    }
   ],
   "source": [
    "q3 = \"select * from facts where population = 0\"\n",
    "pd.read_sql_query(q3, conn)"
   ]
  },
  {
   "cell_type": "code",
   "execution_count": 12,
   "metadata": {
    "collapsed": false
   },
   "outputs": [
    {
     "data": {
      "text/html": [
       "<div>\n",
       "<table border=\"1\" class=\"dataframe\">\n",
       "  <thead>\n",
       "    <tr style=\"text-align: right;\">\n",
       "      <th></th>\n",
       "      <th>id</th>\n",
       "      <th>code</th>\n",
       "      <th>name</th>\n",
       "      <th>area</th>\n",
       "      <th>area_land</th>\n",
       "      <th>area_water</th>\n",
       "      <th>population</th>\n",
       "      <th>population_growth</th>\n",
       "      <th>birth_rate</th>\n",
       "      <th>death_rate</th>\n",
       "      <th>migration_rate</th>\n",
       "    </tr>\n",
       "  </thead>\n",
       "  <tbody>\n",
       "    <tr>\n",
       "      <th>0</th>\n",
       "      <td>261</td>\n",
       "      <td>xx</td>\n",
       "      <td>World</td>\n",
       "      <td>None</td>\n",
       "      <td>None</td>\n",
       "      <td>None</td>\n",
       "      <td>7256490011</td>\n",
       "      <td>1.08</td>\n",
       "      <td>18.6</td>\n",
       "      <td>7.8</td>\n",
       "      <td>None</td>\n",
       "    </tr>\n",
       "  </tbody>\n",
       "</table>\n",
       "</div>"
      ],
      "text/plain": [
       "    id code   name  area area_land area_water  population  population_growth  \\\n",
       "0  261   xx  World  None      None       None  7256490011               1.08   \n",
       "\n",
       "   birth_rate  death_rate migration_rate  \n",
       "0        18.6         7.8           None  "
      ]
     },
     "execution_count": 12,
     "metadata": {},
     "output_type": "execute_result"
    }
   ],
   "source": [
    "q4 = \"select * from facts where population = 7256490011\"\n",
    "pd.read_sql_query(q4, conn)"
   ]
  },
  {
   "cell_type": "markdown",
   "metadata": {},
   "source": [
    "The least populated \"country\" is Antarctica which has a population of 0, and the world has a population of 7256490011. "
   ]
  },
  {
   "cell_type": "code",
   "execution_count": 18,
   "metadata": {
    "collapsed": false
   },
   "outputs": [
    {
     "data": {
      "text/plain": [
       "array([[<matplotlib.axes._subplots.AxesSubplot object at 0x7f680ca15668>,\n",
       "        <matplotlib.axes._subplots.AxesSubplot object at 0x7f680c9dbf98>],\n",
       "       [<matplotlib.axes._subplots.AxesSubplot object at 0x7f680c9fe7b8>,\n",
       "        <matplotlib.axes._subplots.AxesSubplot object at 0x7f680c963a58>]], dtype=object)"
      ]
     },
     "execution_count": 18,
     "metadata": {},
     "output_type": "execute_result"
    },
    {
     "data": {
      "image/png": "[encoded data removed]",
      "text/plain": [
       "<matplotlib.figure.Figure at 0x7f680ca00cc0>"
      ]
     },
     "metadata": {},
     "output_type": "display_data"
    }
   ],
   "source": [
    "import matplotlib.pyplot as plt\n",
    "%matplotlib inline\n",
    "\n",
    "q5 = \"select population, population_growth, birth_rate, death_rate from facts where name != 'World' and name != 'Antarctica'\"\n",
    "pd.read_sql_query(q5, conn).hist()"
   ]
  }
 ],
 "metadata": {
  "kernelspec": {
   "display_name": "Python 3",
   "language": "python",
   "name": "python3"
  },
  "language_info": {
   "codemirror_mode": {
    "name": "ipython",
    "version": 3
   },
   "file_extension": ".py",
   "mimetype": "text/x-python",
   "name": "python",
   "nbconvert_exporter": "python",
   "pygments_lexer": "ipython3",
   "version": "3.4.3"
  }
 },
 "nbformat": 4,
 "nbformat_minor": 2
}
